{
 "cells": [
  {
   "cell_type": "markdown",
   "metadata": {},
   "source": [
    "# Wedding Seat Optimization using Simulated Annealing"
   ]
  },
  {
   "cell_type": "markdown",
   "metadata": {},
   "source": [
    "What I do when my best friends are getting married and I'm getting antsy."
   ]
  },
  {
   "cell_type": "code",
   "execution_count": 1,
   "metadata": {},
   "outputs": [],
   "source": [
    "import matplotlib.pyplot as plt\n",
    "plt.style.use('ggplot')\n",
    "%matplotlib inline\n",
    "%config InlineBackend.figure_format = 'svg'\n",
    "\n",
    "import pandas as pd\n",
    "import numpy as np\n",
    "import networkx as nx\n",
    "import string"
   ]
  },
  {
   "cell_type": "code",
   "execution_count": 2,
   "metadata": {},
   "outputs": [],
   "source": [
    "guest_list = list(string.ascii_uppercase)[:10]\n",
    "relationships_edges = {\n",
    "    ('A', 'B'): -50,\n",
    "    ('C', 'D'): -50,\n",
    "    ('A', 'D'): 50,\n",
    "    ('E', 'F'): 25,\n",
    "    ('F', 'G'): -50,\n",
    "    ('H', 'I'): -50,\n",
    "}\n",
    "table_size = 5\n",
    "table_count = len(guest_list) // table_size"
   ]
  },
  {
   "cell_type": "code",
   "execution_count": 3,
   "metadata": {},
   "outputs": [
    {
     "name": "stdout",
     "output_type": "stream",
     "text": [
      "['A', 'B', 'C', 'D', 'E', 'F', 'G', 'H', 'I', 'J']\n"
     ]
    }
   ],
   "source": [
    "print(guest_list)"
   ]
  },
  {
   "cell_type": "code",
   "execution_count": 4,
   "metadata": {},
   "outputs": [
    {
     "name": "stdout",
     "output_type": "stream",
     "text": [
      "[[  0. -50.   0.  50.   0.   0.   0.   0.   0.   0.]\n",
      " [-50.   0.   0.   0.   0.   0.   0.   0.   0.   0.]\n",
      " [  0.   0.   0. -50.   0.   0.   0.   0.   0.   0.]\n",
      " [ 50.   0. -50.   0.   0.   0.   0.   0.   0.   0.]\n",
      " [  0.   0.   0.   0.   0.  25.   0.   0.   0.   0.]\n",
      " [  0.   0.   0.   0.  25.   0. -50.   0.   0.   0.]\n",
      " [  0.   0.   0.   0.   0. -50.   0.   0.   0.   0.]\n",
      " [  0.   0.   0.   0.   0.   0.   0.   0. -50.   0.]\n",
      " [  0.   0.   0.   0.   0.   0.   0. -50.   0.   0.]\n",
      " [  0.   0.   0.   0.   0.   0.   0.   0.   0.   0.]]\n"
     ]
    }
   ],
   "source": [
    "temp_graph = nx.Graph()\n",
    "for k, v in relationships_edges.items():\n",
    "    temp_graph.add_edge(k[0], k[1], weight=v)\n",
    "relationships_mat = nx.to_numpy_matrix(temp_graph.to_undirected(), nodelist=guest_list)\n",
    "\n",
    "print(relationships_mat)"
   ]
  },
  {
   "cell_type": "code",
   "execution_count": 5,
   "metadata": {},
   "outputs": [
    {
     "name": "stdout",
     "output_type": "stream",
     "text": [
      "[[-100.]]\n"
     ]
    }
   ],
   "source": [
    "table_0_seats = np.matrix([[1, 0, 1, 0, 0, 1, 1, 1, 0, 0]])\n",
    "print(table_0_seats * relationships_mat * table_0_seats.T)"
   ]
  },
  {
   "cell_type": "code",
   "execution_count": 6,
   "metadata": {},
   "outputs": [
    {
     "name": "stdout",
     "output_type": "stream",
     "text": [
      "[[-100.  -75.]\n",
      " [ -75.    0.]]\n",
      "-100.0\n"
     ]
    }
   ],
   "source": [
    "table_seats_a = np.matrix([\n",
    "    [1, 0, 1, 0, 0, 1, 1, 1, 0, 0],\n",
    "    [0, 1, 0, 1, 1, 0, 0, 0, 1, 1]\n",
    "])\n",
    "table_costs_a = table_seats_a * relationships_mat * table_seats_a.T\n",
    "print(table_costs_a)\n",
    "print(np.trace(table_costs_a))"
   ]
  },
  {
   "cell_type": "code",
   "execution_count": 7,
   "metadata": {},
   "outputs": [
    {
     "name": "stdout",
     "output_type": "stream",
     "text": [
      "[[-100.   25.]\n",
      " [  25. -200.]]\n",
      "-300.0\n"
     ]
    }
   ],
   "source": [
    "table_seats_b = np.matrix([\n",
    "    [1, 1, 1, 0, 1, 0, 0, 0, 0, 1],\n",
    "    [0, 0, 0, 1, 0, 1, 1, 1, 1, 0]\n",
    "])\n",
    "table_costs_b = table_seats_b * relationships_mat * table_seats_b.T\n",
    "print(table_costs_b)\n",
    "print(np.trace(table_costs_b))"
   ]
  },
  {
   "cell_type": "code",
   "execution_count": 8,
   "metadata": {},
   "outputs": [],
   "source": [
    "def reshape_to_table_seats(x):\n",
    "    table_seats = x.reshape(table_count, len(guest_list))\n",
    "    return table_seats\n",
    "\n",
    "def cost(x):\n",
    "    table_seats = reshape_to_table_seats(x)\n",
    "    table_costs = table_seats * relationships_mat * table_seats.T\n",
    "    table_cost = np.trace(table_costs)\n",
    "    return table_cost\n",
    "\n",
    "def take_step(x):\n",
    "    table_seats = reshape_to_table_seats(np.matrix(x, copy=True))\n",
    "    # randomly swap two guests\n",
    "    table_from, table_to = np.random.choice(table_count, 2, replace=False)\n",
    "    \n",
    "    table_from_guests = np.where(table_seats[table_from] == 1)[1]\n",
    "    table_to_guests = np.where(table_seats[table_to] == 1)[1]\n",
    "    \n",
    "    table_from_guest = np.random.choice(table_from_guests)\n",
    "    table_to_guest = np.random.choice(table_to_guests)\n",
    "    \n",
    "    table_seats[table_from, table_from_guest] = 0\n",
    "    table_seats[table_from, table_to_guest] = 1\n",
    "    table_seats[table_to, table_to_guest] = 0\n",
    "    table_seats[table_to, table_from_guest] = 1\n",
    "    return table_seats\n",
    "\n",
    "def prob_accept(cost_old, cost_new, temp):\n",
    "    a = np.exp((cost_old - cost_new) / temp)\n",
    "    return a"
   ]
  },
  {
   "cell_type": "code",
   "execution_count": 9,
   "metadata": {},
   "outputs": [],
   "source": [
    "def anneal(pos_current):\n",
    "    cost_old = cost(pos_current)\n",
    "    temp = 1.0\n",
    "    temp_min = 0.00001\n",
    "    alpha = 0.9\n",
    "    n_iter = 100\n",
    "    \n",
    "    while temp > temp_min:\n",
    "        for i in range(0, n_iter):\n",
    "            pos_new = take_step(pos_current)\n",
    "            cost_new = cost(pos_new)\n",
    "            p_accept = prob_accept(cost_old, cost_new, temp)\n",
    "            # print('cost_new %.1f, cost_old %.1f, temp %.1f, p_accept %.5f' % (cost_new, cost_old, temp, p_accept))\n",
    "            if p_accept > np.random.random():\n",
    "                pos_current = pos_new\n",
    "                cost_old = cost_new\n",
    "        temp *= alpha\n",
    "    return pos_current, cost_old"
   ]
  },
  {
   "cell_type": "code",
   "execution_count": 10,
   "metadata": {},
   "outputs": [],
   "source": [
    "result = anneal(table_seats_b)"
   ]
  },
  {
   "cell_type": "code",
   "execution_count": 11,
   "metadata": {},
   "outputs": [
    {
     "name": "stdout",
     "output_type": "stream",
     "text": [
      "[[1 1 0 0 1 0 0 1 1 0]\n",
      " [0 0 1 1 0 1 1 0 0 1]]\n",
      "-400.0\n"
     ]
    }
   ],
   "source": [
    "print(result[0])\n",
    "print(cost(result[0]))"
   ]
  }
 ],
 "metadata": {
  "kernelspec": {
   "display_name": "Python 3",
   "language": "python",
   "name": "python3"
  },
  "language_info": {
   "codemirror_mode": {
    "name": "ipython",
    "version": 3
   },
   "file_extension": ".py",
   "mimetype": "text/x-python",
   "name": "python",
   "nbconvert_exporter": "python",
   "pygments_lexer": "ipython3",
   "version": "3.6.4"
  }
 },
 "nbformat": 4,
 "nbformat_minor": 1
}
